{
 "cells": [
  {
   "cell_type": "markdown",
   "metadata": {},
   "source": [
    "# Generate U and w\n",
    "In this document we use AdaBoost on generated data to compute matrix $U$ \n",
    "\n",
    "$$U_{ij}=y_i h_j(x_i)$$\n",
    "\n",
    "and weights vector $w$ where $w$ is normalized $\\sum_i w_i=1$. "
   ]
  },
  {
   "cell_type": "code",
   "execution_count": 12,
   "metadata": {},
   "outputs": [
    {
     "name": "stdout",
     "output_type": "stream",
     "text": [
      "490/500"
     ]
    }
   ],
   "source": [
    "import numpy as np\n",
    "from sklearn.datasets import make_classification\n",
    "from sklearn.ensemble import AdaBoostClassifier\n",
    "from sklearn.tree import DecisionTreeClassifier\n",
    "\n",
    "n = 3000  # number data points\n",
    "d = 20    # dimension of input\n",
    "depth = 3 # Base Classifier is a Decision Tree, deeper => \"less weak\". \n",
    "max_hypothesis = 500\n",
    "\n",
    "X, y = make_classification(n, d, n_classes=2)\n",
    "\n",
    "for i in range(10, max_hypothesis, 10):   \n",
    "    ada = AdaBoostClassifier(DecisionTreeClassifier(max_depth=depth),  algorithm=\"SAMME\", n_estimators=i)\n",
    "    ada.fit(X, y)\n",
    "    \n",
    "    # saved to \"export/U[NUM HYPOTHESIS].txt\"\n",
    "    # and      \"export/w[NUM HYPOTHESIS].txt\"\n",
    "    compute_and_save_matrix(ada, X, y) \n",
    "    \n",
    "    print(\"\\r%i/500\"%i, end='')"
   ]
  },
  {
   "cell_type": "markdown",
   "metadata": {},
   "source": [
    "The following code computes and saves the matrix $U$ and vector $w$. "
   ]
  },
  {
   "cell_type": "code",
   "execution_count": 9,
   "metadata": {
    "collapsed": true
   },
   "outputs": [],
   "source": [
    "def compute_and_save_matrix(ada, X, y):\n",
    "    n, d = np.shape(X)\n",
    "    \n",
    "    # change from {0, 1} to {-1, 1}\n",
    "    y = y*2-1\n",
    "    \n",
    "    # Normalize weights. \n",
    "    ada.estimator_weights_ = ada.estimator_weights_ / np.sum(ada.estimator_weights_)\n",
    "    assert np.allclose(np.sum(ada.estimator_weights_), 1), np.sum(ada.estimator_weights_)\n",
    "    \n",
    "    # \n",
    "    T = ada.n_estimators\n",
    "    U = np.zeros((n, T))\n",
    "    w = np.array(ada.estimator_weights_)\n",
    "    \n",
    "    # Add a column to U for each of all T hypothesis \n",
    "    for t in range(T):\n",
    "        h = ada.estimators_[t]\n",
    "        pred = h.predict(X) * 2 - 1 # change from {0, 1} to {-1, 1} # ERROR WAS HERE. \n",
    "        U[:,t] = pred * y           # * is entry wise multiplication.\n",
    "\n",
    "    margins1 = U @ w\n",
    "    \n",
    "    # check computations are correct.\n",
    "    H = ada.decision_function(X)\n",
    "    margins2 = H * y\n",
    "    \n",
    "    assert np.allclose(margins1, margins2)\n",
    "    \n",
    "    np.savetxt(\"export/U\" + str(T) + \".txt\", U, delimiter=\" \", fmt=\"%.1f\") # only {-1, +1} so we don't need precision\n",
    "    np.savetxt(\"export/w\" + str(T) + \".txt\", w, delimiter=\" \", fmt=\"%.10f\") # weights, need all the precision we can get\n",
    "    \n",
    "    return U, w, np.min(margins1)"
   ]
  },
  {
   "cell_type": "code",
   "execution_count": null,
   "metadata": {
    "collapsed": true
   },
   "outputs": [],
   "source": []
  }
 ],
 "metadata": {
  "kernelspec": {
   "display_name": "Python 3",
   "language": "python",
   "name": "python3"
  },
  "language_info": {
   "codemirror_mode": {
    "name": "ipython",
    "version": 3
   },
   "file_extension": ".py",
   "mimetype": "text/x-python",
   "name": "python",
   "nbconvert_exporter": "python",
   "pygments_lexer": "ipython3",
   "version": "3.6.3"
  }
 },
 "nbformat": 4,
 "nbformat_minor": 2
}

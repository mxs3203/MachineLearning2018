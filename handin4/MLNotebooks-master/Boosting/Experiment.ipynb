{
 "cells": [
  {
   "cell_type": "markdown",
   "metadata": {},
   "source": [
    "# Experiment\n",
    "Recreate resutts from emargin article with AdaBoost and AdaBoostV instead of arc-gv.  (add computation of emargin later)\n",
    "\n",
    "http://colt2008.cs.helsinki.fi/papers/08-Wang.pdf page 11\n",
    "\n",
    "extend to do cross validation"
   ]
  },
  {
   "cell_type": "code",
   "execution_count": 1,
   "metadata": {
    "collapsed": true
   },
   "outputs": [],
   "source": [
    "# Import data sets. \n",
    "import ipython_notebook_importer\n",
    "import DataSet as ds"
   ]
  },
  {
   "cell_type": "code",
   "execution_count": 10,
   "metadata": {
    "scrolled": false
   },
   "outputs": [],
   "source": [
    "# All features is normalized to [0, 1]? Sum to 1, or just live in this area?\n",
    "# THe ioanosphere dataset has an dimension where max is 0, so now i try max of abs\n",
    "\n",
    "# Five fold cross-validation, use this as test error??!?!?!?\n",
    "# decision stumps, decision trees with depth 1? Yes.\n",
    "''' \n",
    "    We use a finite set of possible decision\n",
    "    stumps. Specifically, for each feature we consider 100\n",
    "    thresholds uniformly distributed on [0, 1]. Therefore the\n",
    "    size of the base classifier set is 2 × 100 × k, where k\n",
    "    denotes the number of features.\n",
    "'''\n",
    "from sklearn.model_selection import KFold\n",
    "import ipython_notebook_importer\n",
    "import AdaBoost \n",
    "import AdaBoostV # importing notebooks might take a few seconds. \n",
    "import numpy as np\n",
    "\n",
    "def experiment(name, T=100):\n",
    "    # Load dataset\n",
    "    data = ds.DataSet(name, split=False, normalize=True)\n",
    "    X = data.X\n",
    "    y = data.y\n",
    "    \n",
    "    print(name.upper()+ \"  \", \"\\tTest (CV) Error\\t\\tMinimum Margin\")\n",
    "    \n",
    "    kf = KFold(n_splits=5, random_state=42, shuffle=False)\n",
    "    \n",
    "    error_ada  = []\n",
    "    error_adav = []\n",
    "    error_ada_s = []\n",
    "    error_adav_s = []\n",
    "    \n",
    "    mm_ada     = []\n",
    "    mm_adav    = []\n",
    "    mm_ada_s = []\n",
    "    mm_adav_s = []\n",
    "    \n",
    "    error_retrain = []\n",
    "    error_retrain_v = []\n",
    "    \n",
    "    mm_retrain = []\n",
    "    mm_retrain_v = []\n",
    "    \n",
    "    i = 0\n",
    "    for train_index, test_index in kf.split(X):\n",
    "        print(\"\\rIteration %i\"%i, \"\\t.\", end='')\n",
    "        i+=1\n",
    "        X_train, X_test = X[train_index], X[test_index]\n",
    "        y_train, y_test = y[train_index], y[test_index]\n",
    "        \n",
    "        # AdaBoost exp\n",
    "        ada = AdaBoost.AdaBoost()\n",
    "        ada.fit(X, y, T)\n",
    "        error_ada.append(1-ada.score(X_test, y_test))\n",
    "        mm_ada.append(ada.minimal_margin(X_train, y_train))\n",
    "        print(\".\", end='')\n",
    "        \n",
    "        # AdaBoostV experiment\n",
    "        ada = AdaBoostV.AdaBoostV()\n",
    "        ada.fit(X, y, T)\n",
    "        error_adav.append(1-ada.score(X_test, y_test))\n",
    "        mm_adav.append(ada.minimal_margin(X_train, y_train))\n",
    "        print(\".\", end='')\n",
    "        \n",
    "        # AdaBoost; sparsify and select by min margin\n",
    "        ada = AdaBoost.AdaBoost()\n",
    "        ada.force_silent = True\n",
    "        ada.fit(X, y, T) # just to 256 and we won on a single dataset!\n",
    "        ada = ada.sparsify(X, y, 10, \"mm\")\n",
    "        error_ada_s.append(1-ada.score(X_test, y_test))\n",
    "        mm_ada_s.append(ada.minimal_margin(X_train, y_train))\n",
    "        print(\".\", end='')\n",
    "        \n",
    "        # AdaBoostV; sparsify, retrain and select by minimal margin\n",
    "        ada = AdaBoostV.AdaBoostV()\n",
    "        ada.force_silent = True\n",
    "        ada.fit(X, y, T) # just to 256 and we won on a single dataset!\n",
    "        ada = ada.sparsify(X, y, 10)\n",
    "        error_adav_s.append(1-ada.score(X_test, y_test))\n",
    "        mm_adav_s.append(ada.minimal_margin(X_train, y_train))\n",
    "        print(\".\", end='')\n",
    "        \n",
    "        # Retrain Ada\n",
    "        ada = AdaBoost.AdaBoost()\n",
    "        ada.force_silent = True\n",
    "        ada = ada.retrain(X, y, 3, max=T)\n",
    "        error_retrain.append(1-ada.score(X_test, y_test))\n",
    "        mm_retrain.append(ada.minimal_margin(X_train, y_train))\n",
    "        print(\".\", end='')\n",
    "        \n",
    "        # Retrain AdaV\n",
    "        ada = AdaBoostV.AdaBoostV()\n",
    "        ada.force_silent = True\n",
    "        ada = ada.retrain(X, y, 3, max=T)\n",
    "        error_retrain_v.append(1-ada.score(X_test, y_test))\n",
    "        mm_retrain_v.append(ada.minimal_margin(X_train, y_train))\n",
    "        print(\".\", end='')\n",
    "    \n",
    "    print(\"\\tDONE!\")\n",
    "        \n",
    "    error_ada = np.mean(error_ada)\n",
    "    error_adav = np.mean(error_adav)\n",
    "    error_ada_s = np.mean(error_ada_s)\n",
    "    error_adav_s = np.mean(error_adav_s)\n",
    "    \n",
    "    mm_ada  = np.mean(mm_ada)\n",
    "    mm_adav = np.mean(mm_adav)\n",
    "    mm_ada_s  = np.mean(mm_ada_s)\n",
    "    mm_adav_s = np.mean(mm_adav_s)\n",
    "    \n",
    "    \n",
    "    error_retrain = np.mean(error_retrain)\n",
    "    error_retrain_v = np.mean(error_retrain_v)\n",
    "    \n",
    "    mm_retrain = np.mean(mm_retrain)\n",
    "    mm_retrain_v = np.mean(mm_retrain_v)\n",
    "    \n",
    "    print(\"AdaBoost: \\t\", round(error_ada,5), \"\\t\\t\", round(mm_ada,5))\n",
    "    print(\"AdaBoostV: \\t\", round(error_adav, 5), \"\\t\\t\", round(mm_adav,5))\n",
    "    print(\"---\")\n",
    "    print(\"AdaBoost (S): \\t\", round(error_ada_s,5), \"\\t\\t\", round(mm_ada_s,5))\n",
    "    print(\"AdaBoostV (S): \\t\", round(error_adav_s, 5), \"\\t\\t\", round(mm_adav_s,5))\n",
    "    print(\"Retrain: \\t\", round(error_retrain, 5), \"\\t\\t\", round(mm_retrain,5))\n",
    "    print(\"RetrainV: \\t\", round(error_retrain_v, 5), \"\\t\\t\", round(mm_retrain_v,5))\n",
    "    \n",
    "    print(\"\")\n",
    "# repeat train sparsify on 10->100; "
   ]
  },
  {
   "cell_type": "code",
   "execution_count": 11,
   "metadata": {
    "scrolled": false
   },
   "outputs": [
    {
     "name": "stdout",
     "output_type": "stream",
     "text": [
      "DIABETES   \tTest (CV) Error\t\tMinimum Margin\n",
      "Iteration 3 \t........................"
     ]
    },
    {
     "name": "stderr",
     "output_type": "stream",
     "text": [
      "AdaBoostV.ipynb:60: RuntimeWarning: divide by zero encountered in double_scalars\n",
      "  \"            self.y_test = y_test\\n\",\n",
      "AdaBoostV.ipynb:70: RuntimeWarning: invalid value encountered in true_divide\n",
      "  \"        assert sum(self.sample_weight >= 0) == self.sample_weight.shape[0]\\n\",\n",
      "AdaBoostV.ipynb:93: RuntimeWarning: invalid value encountered in true_divide\n",
      "  \"\\n\",\n"
     ]
    },
    {
     "name": "stdout",
     "output_type": "stream",
     "text": [
      "!!!!!!!!!!!!!!!!!!!!!!!!!!!!!!!!!!!!!!!!!!!!!!!!!!!!!!!!!!!!!!\n",
      "!!!!!!!!!!!!!!!!!!!!!!!!!!!!!!!!!!!!!!!!!!!!!!!!!!!!!!!!!!!!!!\n",
      "!!!!!!!!!!!!!!!!!!!!!!!!!!!!!!!!PERFECT!!!!!!!!!!!!!!!!!!!!!!!\n",
      "!!!!!!!!!!!!!!!!!!!!!!!!!!!!!!!!!!!!!!!!!!!!!!!!!!!!!!!!!!!!!!\n",
      "!!!!!!!!!!!!!!!!!!!!!!!!!!!!!!!!!!!!!!!!!!!!!!!!!!!!!!!!!!!!!!\n",
      "Iteration 4 \t.......\tDONE!\n",
      "AdaBoost: \t 0.17963 \t\t -0.10846\n",
      "AdaBoostV: \t 0.19005 \t\t -0.01519\n",
      "---\n",
      "AdaBoost (S): \t 0.17182 \t\t -0.06301\n",
      "AdaBoostV (S): \t 0.15884 \t\t -0.0075\n",
      "Retrain: \t 0.16535 \t\t -0.03272\n",
      "RetrainV: \t 0.15751 \t\t -0.00435\n",
      "\n",
      "GERMAN   \tTest (CV) Error\t\tMinimum Margin\n",
      "Iteration 4 \t...............................\tDONE!\n",
      "AdaBoost: \t 0.194 \t\t -0.2124\n",
      "AdaBoostV: \t 0.234 \t\t -0.01352\n",
      "---\n",
      "AdaBoost (S): \t 0.196 \t\t -0.12734\n",
      "AdaBoostV (S): \t 0.217 \t\t -0.0082\n",
      "Retrain: \t 0.197 \t\t -0.05967\n",
      "RetrainV: \t 0.231 \t\t -0.00498\n",
      "\n",
      "IONOSPHERE   \tTest (CV) Error\t\tMinimum Margin\n",
      "Iteration 0 \t......!!!!!!!!!!!!!!!!!!!!!!!!!!!!!!!!!!!!!!!!!!!!!!!!!!!!!!!!!!!!!!\n",
      "!!!!!!!!!!!!!!!!!!!!!!!!!!!!!!!!!!!!!!!!!!!!!!!!!!!!!!!!!!!!!!\n",
      "!!!!!!!!!!!!!!!!!!!!!!!!!!!!!!!!PERFECT!!!!!!!!!!!!!!!!!!!!!!!\n",
      "!!!!!!!!!!!!!!!!!!!!!!!!!!!!!!!!!!!!!!!!!!!!!!!!!!!!!!!!!!!!!!\n",
      "!!!!!!!!!!!!!!!!!!!!!!!!!!!!!!!!!!!!!!!!!!!!!!!!!!!!!!!!!!!!!!\n",
      "!!!!!!!!!!!!!!!!!!!!!!!!!!!!!!!!!!!!!!!!!!!!!!!!!!!!!!!!!!!!!!\n",
      "!!!!!!!!!!!!!!!!!!!!!!!!!!!!!!!!!!!!!!!!!!!!!!!!!!!!!!!!!!!!!!\n",
      "!!!!!!!!!!!!!!!!!!!!!!!!!!!!!!!!PERFECT!!!!!!!!!!!!!!!!!!!!!!!\n",
      "!!!!!!!!!!!!!!!!!!!!!!!!!!!!!!!!!!!!!!!!!!!!!!!!!!!!!!!!!!!!!!\n",
      "!!!!!!!!!!!!!!!!!!!!!!!!!!!!!!!!!!!!!!!!!!!!!!!!!!!!!!!!!!!!!!\n",
      "!!!!!!!!!!!!!!!!!!!!!!!!!!!!!!!!!!!!!!!!!!!!!!!!!!!!!!!!!!!!!!\n",
      "!!!!!!!!!!!!!!!!!!!!!!!!!!!!!!!!!!!!!!!!!!!!!!!!!!!!!!!!!!!!!!\n",
      "!!!!!!!!!!!!!!!!!!!!!!!!!!!!!!!!PERFECT!!!!!!!!!!!!!!!!!!!!!!!\n",
      "!!!!!!!!!!!!!!!!!!!!!!!!!!!!!!!!!!!!!!!!!!!!!!!!!!!!!!!!!!!!!!\n",
      "!!!!!!!!!!!!!!!!!!!!!!!!!!!!!!!!!!!!!!!!!!!!!!!!!!!!!!!!!!!!!!\n",
      "Iteration 1 \t....."
     ]
    },
    {
     "name": "stderr",
     "output_type": "stream",
     "text": [
      "AdaBoost.ipynb:85: RuntimeWarning: divide by zero encountered in double_scalars\n",
      "  \"            self.test = True\\n\",\n",
      "AdaBoost.ipynb:94: RuntimeWarning: invalid value encountered in true_divide\n",
      "  \"        \\\"\\\"\\\"Train AdaBoost from it's current # hypothesis to T hypothesis. \\\"\\\"\\\"\\n\",\n"
     ]
    },
    {
     "name": "stdout",
     "output_type": "stream",
     "text": [
      "."
     ]
    },
    {
     "name": "stderr",
     "output_type": "stream",
     "text": [
      "AdaBoostV.ipynb:60: RuntimeWarning: invalid value encountered in log\n",
      "  \"            self.y_test = y_test\\n\",\n"
     ]
    },
    {
     "ename": "AssertionError",
     "evalue": "nan",
     "output_type": "error",
     "traceback": [
      "\u001b[0;31m---------------------------------------------------------------------------\u001b[0m",
      "\u001b[0;31mAssertionError\u001b[0m                            Traceback (most recent call last)",
      "\u001b[0;32m<ipython-input-11-b8eb085732b4>\u001b[0m in \u001b[0;36m<module>\u001b[0;34m()\u001b[0m\n\u001b[1;32m      1\u001b[0m \u001b[0mT\u001b[0m \u001b[0;34m=\u001b[0m \u001b[0;36m500\u001b[0m\u001b[0;34m\u001b[0m\u001b[0m\n\u001b[1;32m      2\u001b[0m \u001b[0;32mfor\u001b[0m \u001b[0mname\u001b[0m \u001b[0;32min\u001b[0m \u001b[0mds\u001b[0m\u001b[0;34m.\u001b[0m\u001b[0mDataSet\u001b[0m\u001b[0;34m.\u001b[0m\u001b[0mnames\u001b[0m\u001b[0;34m:\u001b[0m\u001b[0;34m\u001b[0m\u001b[0m\n\u001b[0;32m----> 3\u001b[0;31m     \u001b[0mexperiment\u001b[0m\u001b[0;34m(\u001b[0m\u001b[0mname\u001b[0m\u001b[0;34m,\u001b[0m \u001b[0mT\u001b[0m\u001b[0;34m)\u001b[0m\u001b[0;34m\u001b[0m\u001b[0m\n\u001b[0m",
      "\u001b[0;32m<ipython-input-10-83bbd2caac12>\u001b[0m in \u001b[0;36mexperiment\u001b[0;34m(name, T)\u001b[0m\n\u001b[1;32m     93\u001b[0m         \u001b[0mada\u001b[0m \u001b[0;34m=\u001b[0m \u001b[0mAdaBoostV\u001b[0m\u001b[0;34m.\u001b[0m\u001b[0mAdaBoostV\u001b[0m\u001b[0;34m(\u001b[0m\u001b[0;34m)\u001b[0m\u001b[0;34m\u001b[0m\u001b[0m\n\u001b[1;32m     94\u001b[0m         \u001b[0mada\u001b[0m\u001b[0;34m.\u001b[0m\u001b[0mforce_silent\u001b[0m \u001b[0;34m=\u001b[0m \u001b[0;32mTrue\u001b[0m\u001b[0;34m\u001b[0m\u001b[0m\n\u001b[0;32m---> 95\u001b[0;31m         \u001b[0mada\u001b[0m \u001b[0;34m=\u001b[0m \u001b[0mada\u001b[0m\u001b[0;34m.\u001b[0m\u001b[0mretrain\u001b[0m\u001b[0;34m(\u001b[0m\u001b[0mX\u001b[0m\u001b[0;34m,\u001b[0m \u001b[0my\u001b[0m\u001b[0;34m,\u001b[0m \u001b[0;36m3\u001b[0m\u001b[0;34m,\u001b[0m \u001b[0mmax\u001b[0m\u001b[0;34m=\u001b[0m\u001b[0mT\u001b[0m\u001b[0;34m)\u001b[0m\u001b[0;34m\u001b[0m\u001b[0m\n\u001b[0m\u001b[1;32m     96\u001b[0m         \u001b[0merror_retrain_v\u001b[0m\u001b[0;34m.\u001b[0m\u001b[0mappend\u001b[0m\u001b[0;34m(\u001b[0m\u001b[0;36m1\u001b[0m\u001b[0;34m-\u001b[0m\u001b[0mada\u001b[0m\u001b[0;34m.\u001b[0m\u001b[0mscore\u001b[0m\u001b[0;34m(\u001b[0m\u001b[0mX_test\u001b[0m\u001b[0;34m,\u001b[0m \u001b[0my_test\u001b[0m\u001b[0;34m)\u001b[0m\u001b[0;34m)\u001b[0m\u001b[0;34m\u001b[0m\u001b[0m\n\u001b[1;32m     97\u001b[0m         \u001b[0mmm_retrain_v\u001b[0m\u001b[0;34m.\u001b[0m\u001b[0mappend\u001b[0m\u001b[0;34m(\u001b[0m\u001b[0mada\u001b[0m\u001b[0;34m.\u001b[0m\u001b[0mminimal_margin\u001b[0m\u001b[0;34m(\u001b[0m\u001b[0mX_train\u001b[0m\u001b[0;34m,\u001b[0m \u001b[0my_train\u001b[0m\u001b[0;34m)\u001b[0m\u001b[0;34m)\u001b[0m\u001b[0;34m\u001b[0m\u001b[0m\n",
      "\u001b[0;32m~/Desktop/MLNotebooks/Boosting/AdaBoost.ipynb\u001b[0m in \u001b[0;36mretrain\u001b[0;34m(self, X, y, repeat, max, X_test, y_test)\u001b[0m\n",
      "\u001b[0;32m~/Desktop/MLNotebooks/Boosting/AdaBoost.ipynb\u001b[0m in \u001b[0;36msparsify\u001b[0;34m(self, X, y, target, select, color)\u001b[0m\n",
      "\u001b[0;32m~/Desktop/MLNotebooks/Boosting/AdaBoost.ipynb\u001b[0m in \u001b[0;36mstep_to\u001b[0;34m(self, X, y, T)\u001b[0m\n",
      "\u001b[0;32m~/Desktop/MLNotebooks/Boosting/AdaBoostV.ipynb\u001b[0m in \u001b[0;36mstep\u001b[0;34m(self, X, y)\u001b[0m\n",
      "\u001b[0;31mAssertionError\u001b[0m: nan"
     ]
    }
   ],
   "source": [
    "T = 500\n",
    "for name in ds.DataSet.names: \n",
    "    experiment(name, T)"
   ]
  },
  {
   "cell_type": "code",
   "execution_count": null,
   "metadata": {
    "collapsed": true
   },
   "outputs": [],
   "source": []
  }
 ],
 "metadata": {
  "kernelspec": {
   "display_name": "Python 3",
   "language": "python",
   "name": "python3"
  },
  "language_info": {
   "codemirror_mode": {
    "name": "ipython",
    "version": 3
   },
   "file_extension": ".py",
   "mimetype": "text/x-python",
   "name": "python",
   "nbconvert_exporter": "python",
   "pygments_lexer": "ipython3",
   "version": "3.6.3"
  }
 },
 "nbformat": 4,
 "nbformat_minor": 2
}

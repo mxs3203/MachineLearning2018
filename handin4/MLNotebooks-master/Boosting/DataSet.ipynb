{
 "cells": [
  {
   "cell_type": "markdown",
   "metadata": {},
   "source": [
    "# Datasets\n",
    "The following dataset class ;; make a script that loads all of UCI ml things (downloads if too large). This would be super nice. "
   ]
  },
  {
   "cell_type": "code",
   "execution_count": 74,
   "metadata": {},
   "outputs": [
    {
     "data": {
      "text/plain": [
       "<__main__.DataSet at 0x7fa5e92f9668>"
      ]
     },
     "execution_count": 74,
     "metadata": {},
     "output_type": "execute_result"
    }
   ],
   "source": [
    "class DataSet:\n",
    "    \n",
    "    # Static list of dataset names\n",
    "    names = [\"generate\", \"diabetes\", \"german\", \"ionosphere\", \"letter\"]\n",
    "    \n",
    "    \n",
    "    # \"In the preprocessing stage, each feature is normalized to [0, 1].\"\n",
    "    def __init__(self, name, normalize=True, split=False):\n",
    "        # https://archive.ics.uci.edu/ml/datasets/Pima+Indians+Diabetes\n",
    "        \n",
    "        # https://archive.ics.uci.edu/ml/support/breast+cancer\n",
    "        #if name == \"breast\": \n",
    "        \n",
    "        if name == \"generate\": \n",
    "            from sklearn.datasets import make_classification\n",
    "\n",
    "            X, y = make_classification(2000, 5, n_classes=2, random_state=42)\n",
    "            y = y*2-1\n",
    "            \n",
    "            self.X = X\n",
    "            self.y = y\n",
    "            normalize = False\n",
    "\n",
    "        \n",
    "        if name == \"diabetes\": \n",
    "            data = np.loadtxt(\"dataset/pima-indians-diabetes.data\", delimiter=',')\n",
    "            n, d = data.shape\n",
    "            X = data[: ,    :d-1]\n",
    "            y = data[: , d-1:d  ]\n",
    "            \n",
    "            self.X = X\n",
    "            self.y = y.astype(np.int32).reshape(n)*2-1\n",
    "            \n",
    "\n",
    "            \n",
    "        \n",
    "        # https://archive.ics.uci.edu/ml/datasets/Statlog+%28German+Credit+Data%29\n",
    "        elif name == \"german\":\n",
    "            data = np.loadtxt(\"dataset/german.data-numeric\")\n",
    "            n, d = data.shape\n",
    "            X = data[: ,    :d-1]\n",
    "            y = data[: , d-1:d  ]\n",
    "            \n",
    "            self.X = X\n",
    "            self.y = (y.astype(np.int32).reshape(n)-1)*2-1\n",
    "            \n",
    "            \n",
    "        # https://archive.ics.uci.edu/ml/datasets/Ionosphere\n",
    "        # Changed 'g'->'+1' and 'b'->'-1' in raw data using vim. \n",
    "        elif name == \"ionosphere\":\n",
    "            data = np.loadtxt(\"dataset/ionosphere.data\", delimiter=',')\n",
    "            n, d = data.shape\n",
    "            X = data[: ,    :d-1]\n",
    "            y = data[: , d-1:d  ]\n",
    "            \n",
    "            self.X = X\n",
    "            self.y = y.astype(np.int32).reshape(n)\n",
    "\n",
    "            \n",
    "            # letter is multiple class\n",
    "            \"\"\"For instance, the “letter” dataset\n",
    "                has 26 classes, we use the first 13 as the positive and the\n",
    "                others as the negative.\n",
    "            \"\"\"\n",
    "        elif name == \"letter\":\n",
    "            a = np.genfromtxt(\"dataset/letter-recognition.data\" ,dtype='str', delimiter=',')\n",
    "            \n",
    "            X = a[:,1:].astype(dtype=np.int32)\n",
    "            \n",
    "            y = a[:,0] # in e margin article they said a->m is class on and n->z is class two\n",
    "            y = (y >= 'N') # make a->m True and n->z False (import 'N' is capital)\n",
    "            y = y*2-1 # make {-1, +1} instead of {0, 1} (T/F)\n",
    "            self.X = X\n",
    "            self.y = y\n",
    "        # satimage is multiplle class\n",
    "        \n",
    "        \n",
    "        #https://archive.ics.uci.edu/ml/datasets/Image+Segmentation\n",
    "        #multiple classes, idc about this. \n",
    "        '''elif name == \"image\":\n",
    "            data = np.loadtxt(\"dataset/segmentation.data\")\n",
    "            n, d = data.shape\n",
    "            X = data[: ,    :d-1]\n",
    "            y = data[: , d-1:d  ]\n",
    "            \n",
    "            self.X = X\n",
    "            self.y = (y.astype(np.int32).reshape(n)-1)*2-1\n",
    "            print(self.X.shape)\n",
    "            print(self.y.shape)\n",
    "            print(set(self.y))'''\n",
    "            \n",
    "        n, d = self.X.shape\n",
    "        if normalize and not name == \"ionosphere\": \n",
    "            max_each_row = np.max(self.X, axis=0)\n",
    "            assert max_each_row.shape == (d, )\n",
    "            self.X = self.X / max_each_row\n",
    "            assert np.max(self.X) == 1.0\n",
    "            \n",
    "            \n",
    "        if split:\n",
    "            n, d = self.X.shape\n",
    "            np.random.seed(42)\n",
    "            perm = np.random.permutation(n)\n",
    "            self.X, self.y, self.X_test, self.y_test = DataSet.split(X[perm], y[perm])\n",
    "\n",
    "    \n",
    "    @staticmethod\n",
    "    def split(X, y, fraction=1/2):\n",
    "        n, d = X.shape\n",
    "        n = int(n*fraction)\n",
    "\n",
    "        X_test = X[n:]\n",
    "        y_test = y[n:]\n",
    "        X = X[:n]\n",
    "        y = y[:n]\n",
    "\n",
    "        return X, y, X_test, y_test\n",
    "    \n",
    "import numpy as np\n",
    "DataSet(\"diabetes\")"
   ]
  },
  {
   "cell_type": "code",
   "execution_count": 38,
   "metadata": {},
   "outputs": [
    {
     "name": "stdout",
     "output_type": "stream",
     "text": [
      "(1000, 25)\n"
     ]
    }
   ],
   "source": []
  },
  {
   "cell_type": "code",
   "execution_count": null,
   "metadata": {
    "collapsed": true
   },
   "outputs": [],
   "source": []
  }
 ],
 "metadata": {
  "kernelspec": {
   "display_name": "Python 3",
   "language": "python",
   "name": "python3"
  },
  "language_info": {
   "codemirror_mode": {
    "name": "ipython",
    "version": 3
   },
   "file_extension": ".py",
   "mimetype": "text/x-python",
   "name": "python",
   "nbconvert_exporter": "python",
   "pygments_lexer": "ipython3",
   "version": "3.6.3"
  }
 },
 "nbformat": 4,
 "nbformat_minor": 2
}
